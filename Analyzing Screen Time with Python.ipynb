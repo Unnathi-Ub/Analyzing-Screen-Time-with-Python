{
 "cells": [
  {
   "cell_type": "code",
   "execution_count": 1,
   "id": "56fcd16d-a55d-4138-8471-8a7449fd28a5",
   "metadata": {},
   "outputs": [
    {
     "data": {
      "text/plain": [
       "10"
      ]
     },
     "execution_count": 1,
     "metadata": {},
     "output_type": "execute_result"
    }
   ],
   "source": [
    "5+5"
   ]
  },
  {
   "cell_type": "code",
   "execution_count": 2,
   "id": "d8611bbe-b2c9-4df1-8005-626630ea3f01",
   "metadata": {},
   "outputs": [
    {
     "name": "stderr",
     "output_type": "stream",
     "text": [
      "fatal: detected dubious ownership in repository at 'C:/Users/UB/DataScience'\n",
      "'C:/Users/UB/DataScience' is owned by:\n",
      "\t'S-1-5-32-544'\n",
      "but the current user is:\n",
      "\t'S-1-5-21-3134537269-948995148-3787015229-1001'\n",
      "To add an exception for this directory, call:\n",
      "\n",
      "\tgit config --global --add safe.directory C:/Users/UB/DataScience\n",
      "fatal: detected dubious ownership in repository at 'C:/Users/UB/DataScience'\n",
      "'C:/Users/UB/DataScience' is owned by:\n",
      "\t'S-1-5-32-544'\n",
      "but the current user is:\n",
      "\t'S-1-5-21-3134537269-948995148-3787015229-1001'\n",
      "To add an exception for this directory, call:\n",
      "\n",
      "\tgit config --global --add safe.directory C:/Users/UB/DataScience\n",
      "fatal: detected dubious ownership in repository at 'C:/Users/UB/DataScience'\n",
      "'C:/Users/UB/DataScience' is owned by:\n",
      "\t'S-1-5-32-544'\n",
      "but the current user is:\n",
      "\t'S-1-5-21-3134537269-948995148-3787015229-1001'\n",
      "To add an exception for this directory, call:\n",
      "\n",
      "\tgit config --global --add safe.directory C:/Users/UB/DataScience\n",
      "fatal: detected dubious ownership in repository at 'C:/Users/UB/DataScience'\n",
      "'C:/Users/UB/DataScience' is owned by:\n",
      "\t'S-1-5-32-544'\n",
      "but the current user is:\n",
      "\t'S-1-5-21-3134537269-948995148-3787015229-1001'\n",
      "To add an exception for this directory, call:\n",
      "\n",
      "\tgit config --global --add safe.directory C:/Users/UB/DataScience\n"
     ]
    }
   ],
   "source": [
    "!git add .                     \n",
    "!git commit -m \"information data\" \n",
    "!git pull origin main --rebase  \n",
    "!git push origin main  "
   ]
  },
  {
   "cell_type": "code",
   "execution_count": null,
   "id": "9635d1a3-453c-4cdb-a566-b9a49dbfa5d9",
   "metadata": {},
   "outputs": [],
   "source": []
  }
 ],
 "metadata": {
  "kernelspec": {
   "display_name": "Python 3 (ipykernel)",
   "language": "python",
   "name": "python3"
  },
  "language_info": {
   "codemirror_mode": {
    "name": "ipython",
    "version": 3
   },
   "file_extension": ".py",
   "mimetype": "text/x-python",
   "name": "python",
   "nbconvert_exporter": "python",
   "pygments_lexer": "ipython3",
   "version": "3.11.7"
  }
 },
 "nbformat": 4,
 "nbformat_minor": 5
}
